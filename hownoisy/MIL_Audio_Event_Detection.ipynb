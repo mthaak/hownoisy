{
 "cells": [
  {
   "cell_type": "code",
   "execution_count": 21,
   "metadata": {
    "collapsed": true,
    "deletable": true,
    "editable": true
   },
   "outputs": [],
   "source": [
    "import glob\n",
    "import os\n",
    "import librosa\n",
    "import numpy as np\n",
    "import matplotlib.pyplot as plt\n",
    "%matplotlib inline"
   ]
  },
  {
   "cell_type": "code",
   "execution_count": 330,
   "metadata": {
    "collapsed": true,
    "deletable": true,
    "editable": true
   },
   "outputs": [],
   "source": [
    "def gen_mfcc_fn(fn, mfcc_window_size, mfcc_stride_size):\n",
    "    \n",
    "    X, sample_rate = librosa.load(fn, sr=None, mono=True)\n",
    "            \n",
    "    if sample_rate != 44100:\n",
    "        return\n",
    "                \n",
    "    mfcc = librosa.feature.mfcc(X, sample_rate, \n",
    "                            n_fft=int(mfcc_window_size * sample_rate), \n",
    "                            hop_length=int(mfcc_stride_size * sample_rate))\n",
    "    return mfcc.T"
   ]
  },
  {
   "cell_type": "code",
   "execution_count": 331,
   "metadata": {
    "collapsed": false,
    "deletable": true,
    "editable": true
   },
   "outputs": [],
   "source": [
    "def generate_mfccs_for_gmm(parent_dir, \n",
    "                     sub_dirs, \n",
    "                     file_ext='*.wav', \n",
    "                     mfcc_window_size=0.02, mfcc_stride_size=0.01):\n",
    "    \n",
    "    mfccs = np.empty((0, 20))\n",
    "    \n",
    "    for label, sub_dir in enumerate(sub_dirs):\n",
    "        for fn in glob.glob(os.path.join(parent_dir, sub_dir, file_ext)):\n",
    "            \n",
    "            mfcc = gen_mfcc_fn(fn, mfcc_window_size, mfcc_stride_size)\n",
    "            if mfcc is None:\n",
    "                continue\n",
    "            \n",
    "            mfccs = np.vstack([mfccs, mfcc])\n",
    "    \n",
    "    return mfccs"
   ]
  },
  {
   "cell_type": "code",
   "execution_count": 332,
   "metadata": {
    "collapsed": false,
    "deletable": true,
    "editable": true
   },
   "outputs": [
    {
     "name": "stdout",
     "output_type": "stream",
     "text": [
      "(132147, 20)\n"
     ]
    }
   ],
   "source": [
    "parent_dir = './UrbanSound8K/audio/'\n",
    "tr_sub_dirs = ['fold%d'% d for d in range(1, 2)]\n",
    "\n",
    "mfccs_for_gmm = generate_mfccs_for_gmm(parent_dir, tr_sub_dirs)\n",
    "print(mfccs_for_gmm.shape)"
   ]
  },
  {
   "cell_type": "code",
   "execution_count": 32,
   "metadata": {
    "collapsed": false,
    "deletable": true,
    "editable": true
   },
   "outputs": [
    {
     "name": "stdout",
     "output_type": "stream",
     "text": [
      "Initialization 0\n",
      "  Iteration 0\t time lapse 11.38020s\t ll change inf\n",
      "  Iteration 10\t time lapse 36.51747s\t ll change 0.08164\n",
      "  Iteration 20\t time lapse 35.59874s\t ll change 0.00713\n",
      "  Iteration 30\t time lapse 38.07266s\t ll change 0.00539\n",
      "  Iteration 40\t time lapse 38.19159s\t ll change 0.00250\n",
      "  Iteration 50\t time lapse 35.89631s\t ll change 0.00089\n",
      "Initialization converged: True\t time lapse 195.65732s\t ll -69.63772\n"
     ]
    },
    {
     "data": {
      "text/plain": [
       "GaussianMixture(covariance_type='full', init_params='kmeans', max_iter=100,\n",
       "        means_init=None, n_components=64, n_init=1, precisions_init=None,\n",
       "        random_state=None, reg_covar=1e-06, tol=0.001, verbose=10,\n",
       "        verbose_interval=10, warm_start=False, weights_init=None)"
      ]
     },
     "execution_count": 32,
     "metadata": {},
     "output_type": "execute_result"
    }
   ],
   "source": [
    "from sklearn.mixture import GaussianMixture\n",
    "\n",
    "gmm = GaussianMixture(n_components=64, verbose=10)\n",
    "gmm.fit(mfccs_for_gmm)"
   ]
  },
  {
   "cell_type": "code",
   "execution_count": 70,
   "metadata": {
    "collapsed": false,
    "deletable": true,
    "editable": true
   },
   "outputs": [
    {
     "name": "stdout",
     "output_type": "stream",
     "text": [
      "(20,)\n",
      "(64,)\n"
     ]
    }
   ],
   "source": [
    "print(mfccs_for_gmm[0].shape)\n",
    "y = gmm.predict_proba(mfccs_for_gmm[:1])\n",
    "print(y[0].shape)"
   ]
  },
  {
   "cell_type": "code",
   "execution_count": 1216,
   "metadata": {
    "collapsed": false
   },
   "outputs": [],
   "source": [
    "import pickle\n",
    "\n",
    "pickle.dump(gmm, open('gaussian_mixture_model.pkl', 'wb'))"
   ]
  },
  {
   "cell_type": "code",
   "execution_count": 1217,
   "metadata": {
    "collapsed": true
   },
   "outputs": [],
   "source": [
    "gmm_bak = pickle.load(open('gaussian_mixture_model.pkl', 'rb'))"
   ]
  },
  {
   "cell_type": "code",
   "execution_count": 1218,
   "metadata": {
    "collapsed": false
   },
   "outputs": [
    {
     "data": {
      "text/plain": [
       "GaussianMixture(covariance_type='full', init_params='kmeans', max_iter=100,\n",
       "        means_init=None, n_components=64, n_init=1, precisions_init=None,\n",
       "        random_state=None, reg_covar=1e-06, tol=0.001, verbose=10,\n",
       "        verbose_interval=10, warm_start=False, weights_init=None)"
      ]
     },
     "execution_count": 1218,
     "metadata": {},
     "output_type": "execute_result"
    }
   ],
   "source": [
    "gmm_bak"
   ]
  },
  {
   "cell_type": "code",
   "execution_count": 417,
   "metadata": {
    "collapsed": false,
    "deletable": true,
    "editable": true
   },
   "outputs": [],
   "source": [
    "sound_class_table = {\n",
    "    'air_conditioner' : 0,\n",
    "    'car_horn' : 1,\n",
    "    'children_playing' : 2,\n",
    "    'dog_bark' : 3,\n",
    "    'drilling' : 4,\n",
    "    'engine_idling' : 5,\n",
    "    'gun_shot' : 6,\n",
    "    'jackhammer' : 7,\n",
    "    'siren' : 8,\n",
    "    'street_music' : 9\n",
    "}\n",
    "\n",
    "def segment_window(audio_len, segment_len, segment_stride):\n",
    "    \n",
    "    start = 0\n",
    "    while start < audio_len:\n",
    "        yield start, start + segment_len\n",
    "        start += segment_stride\n",
    "        \n",
    "def generate_labels(fn, target_class):\n",
    "\n",
    "    return 1 if int(fn.split('-')[-3]) == sound_class_table[target_class] \\\n",
    "                else -1\n",
    "\n",
    "def generate_F_features(parent_dir, \n",
    "                             sub_dirs,\n",
    "                             num_segment_needed,\n",
    "                             target_class,\n",
    "                             file_ext='*.wav', \n",
    "                             mfcc_window_size=0.02, \n",
    "                             mfcc_stride_size=0.01):\n",
    "    \n",
    "    F_features, labels = np.empty((0, 64)), np.array([])\n",
    "\n",
    "    for label, sub_dir in enumerate(sub_dirs):\n",
    "        for fn in glob.glob(os.path.join(parent_dir, sub_dir, file_ext)):\n",
    "            \n",
    "            X, sample_rate = librosa.load(fn, sr=None, mono=True)\n",
    "            if sample_rate != 44100:\n",
    "                continue\n",
    "\n",
    "            segment_len = int(sample_rate * 0.1)\n",
    "            segment_stride = int(sample_rate * 0.05)\n",
    "            \n",
    "#             file_F_features = np.empty((0, 64))\n",
    "            for start, end in segment_window(X.size, segment_len, segment_stride):\n",
    "                segment_mfccs = librosa.feature.mfcc(X[start:end], sample_rate, \n",
    "                                    n_fft=int(mfcc_window_size * sample_rate), \n",
    "                                    hop_length=int(mfcc_stride_size * sample_rate))\n",
    "                \n",
    "                segment_F_features = np.sum(gmm.predict_proba(segment_mfccs.T), axis=0) \\\n",
    "                                        / (segment_mfccs.shape[1])\n",
    "                    \n",
    "                F_features = np.vstack([F_features, segment_F_features])\n",
    "            \n",
    "                labels = np.append(labels, generate_labels(fn, target_class))\n",
    "                \n",
    "                if labels.shape[0] >= num_segment_needed:\n",
    "                    return np.array(F_features), np.array(labels, dtype=np.int)\n",
    "#             F_features.append(file_F_features)\n",
    "        \n",
    "    print(\"Finished!\")\n",
    "    return np.array(F_features), np.array(labels, dtype=np.int)"
   ]
  },
  {
   "cell_type": "code",
   "execution_count": 882,
   "metadata": {
    "collapsed": true
   },
   "outputs": [],
   "source": [
    "def extract_test_fn_labels(fn, duration, target_class):\n",
    "\n",
    "    label_file_path = fn.replace('wav', 'txt')\n",
    "\n",
    "    with open(label_file_path) as fd:\n",
    "        lines = fd.readlines()\n",
    "        time_sections_with_label = list(map(lambda x: (float(x[0]), float(x[1]), x[2]), map(lambda x : x.split(), lines)))\n",
    "    \n",
    "    time_intervals = np.arange(0.0, duration, 0.05)\n",
    "    labels = np.zeros((time_intervals.shape[0]), dtype=np.int)\n",
    "\n",
    "    for idx, t in enumerate(time_intervals):\n",
    "        \n",
    "        labels[idx] = -1\n",
    "        \n",
    "        for time_section in time_sections_with_label:\n",
    "            if t < time_section[0] or t > time_section[1]:\n",
    "                continue\n",
    "            \n",
    "            if time_section[2] == target_class:\n",
    "                labels[idx] = 1\n",
    "                break\n",
    "\n",
    "    return labels\n",
    "\n",
    "def gen_test_fn_features(fn):\n",
    "    \n",
    "    X, sample_rate = librosa.load(fn, sr=None, mono=True)\n",
    "    if sample_rate != 44100:\n",
    "        return X, sample_rate, None\n",
    "    \n",
    "    segment_len = int(sample_rate * 0.1)\n",
    "    segment_stride = int(sample_rate * 0.05)\n",
    "    \n",
    "    print(fn)\n",
    "    file_F_features = np.empty((0, 64))\n",
    "    for start, end in segment_window(X.size, segment_len, segment_stride):\n",
    "        segment_mfccs = librosa.feature.mfcc(X[start:end], sample_rate, \n",
    "                            n_fft=int(0.02 * sample_rate), \n",
    "                            hop_length=int(0.01 * sample_rate))\n",
    "\n",
    "        segment_F_features = np.sum(gmm.predict_proba(segment_mfccs.T), axis=0) \\\n",
    "                                / (segment_mfccs.shape[1])\n",
    "\n",
    "        file_F_features = np.vstack([file_F_features, segment_F_features])\n",
    "    \n",
    "    return X, sample_rate, file_F_features\n",
    "                \n",
    "def gen_testing_data_for_svm(target_class, parent_dir = '.', \n",
    "                             sub_dirs = ['soundscapes_5_events_sub'],\n",
    "                             file_ext='*.wav'):\n",
    "    \n",
    "    F_features, labels = [], []\n",
    "    \n",
    "    for label, sub_dir in enumerate(sub_dirs):\n",
    "        for fn in glob.glob(os.path.join(parent_dir, sub_dir, file_ext)):\n",
    "            \n",
    "            X, sample_rate, file_F_features = gen_test_fn_features(fn)\n",
    "            if file_F_features is None:\n",
    "                continue\n",
    "            \n",
    "            fn_labels = extract_test_fn_labels(fn, X.size/sample_rate, target_class)\n",
    "            labels.append(fn_labels)    \n",
    "            F_features.append(file_F_features)\n",
    "        \n",
    "    print(\"Finished!\")\n",
    "    return F_features, labels\n",
    "\n",
    "# def gen_testing_data_for_svm(target_class, parent_dir = '.', \n",
    "#                              sub_dirs = ['soundscapes_5_events_sub'],\n",
    "#                              file_ext='*.wav'):\n",
    "    \n",
    "#     F_features, labels = [], []\n",
    "#     fns = []\n",
    "#     for label, sub_dir in enumerate(sub_dirs):\n",
    "#         for fn in glob.glob(os.path.join(parent_dir, sub_dir, file_ext)):\n",
    "            \n",
    "#             X, sample_rate, file_F_features = gen_test_fn_features(fn)\n",
    "#             if file_F_features is None:\n",
    "#                 continue\n",
    "#             fns.append(fn)\n",
    "#             print(fn)\n",
    "# #             fn_labels = extract_test_fn_labels(fn, X.size/sample_rate, target_class)\n",
    "# #             labels.append(fn_labels)    \n",
    "#             F_features.append(file_F_features)\n",
    "        \n",
    "#     print(\"Finished!\")\n",
    "#     return F_features, fns"
   ]
  },
  {
   "cell_type": "code",
   "execution_count": 578,
   "metadata": {
    "collapsed": false,
    "deletable": true,
    "editable": true
   },
   "outputs": [],
   "source": [
    "def gen_training_data_for_svm(num_target_class_segment, target_class):\n",
    "    \n",
    "    parent_dir = './UrbanSound8K/ByClass'\n",
    "    \n",
    "    F_features_target_class, labels_target_class = generate_F_features(parent_dir,\n",
    "                                                                       [target_class],\n",
    "                                                                       num_target_class_segment,\n",
    "                                                                       target_class)\n",
    "    \n",
    "    F_features_non_target_class = np.empty((0, 64))\n",
    "    labels_non_target_class = np.array([])\n",
    "\n",
    "    for k, _ in sound_class_table.items():\n",
    "        if k == target_class:\n",
    "            continue\n",
    "\n",
    "        tmp_F_features, tmp_labels = generate_F_features(parent_dir, \n",
    "                            [k],\n",
    "                            int(num_target_class_segment/9),\n",
    "                            target_class)\n",
    "    \n",
    "        F_features_non_target_class = np.vstack([F_features_non_target_class, tmp_F_features])\n",
    "        labels_non_target_class = np.append(labels_non_target_class, tmp_labels)\n",
    "    \n",
    "    return np.vstack([F_features_non_target_class, F_features_target_class]), \\\n",
    "            np.append(labels_non_target_class, labels_target_class)"
   ]
  },
  {
   "cell_type": "code",
   "execution_count": 1195,
   "metadata": {
    "collapsed": false,
    "deletable": true,
    "editable": true
   },
   "outputs": [],
   "source": [
    "X_all, y_all = gen_training_data_for_svm(1800, target_class='air_conditioner')"
   ]
  },
  {
   "cell_type": "code",
   "execution_count": 1196,
   "metadata": {
    "collapsed": false,
    "deletable": true,
    "editable": true
   },
   "outputs": [
    {
     "name": "stdout",
     "output_type": "stream",
     "text": [
      "(3600, 64)\n",
      "(3600,)\n"
     ]
    }
   ],
   "source": [
    "print(X_all.shape)\n",
    "print(y_all.shape)"
   ]
  },
  {
   "cell_type": "code",
   "execution_count": 1197,
   "metadata": {
    "collapsed": false,
    "deletable": true,
    "editable": true
   },
   "outputs": [
    {
     "name": "stdout",
     "output_type": "stream",
     "text": [
      "(3060, 64)\n",
      "(3060,)\n",
      "(540, 64)\n",
      "(540,)\n"
     ]
    }
   ],
   "source": [
    "from sklearn.model_selection import train_test_split\n",
    "\n",
    "X_train, X_test, y_train, y_test = train_test_split(\n",
    "    X_all, y_all, stratify=y_all, train_size=0.85)\n",
    "\n",
    "print(X_train.shape)\n",
    "print(y_train.shape)\n",
    "print(X_test.shape)\n",
    "print(y_test.shape)"
   ]
  },
  {
   "cell_type": "code",
   "execution_count": 1207,
   "metadata": {
    "collapsed": false,
    "deletable": true,
    "editable": true
   },
   "outputs": [
    {
     "name": "stdout",
     "output_type": "stream",
     "text": [
      "Training set score: 0.910\n",
      "Test set score: 0.894\n"
     ]
    }
   ],
   "source": [
    "from sklearn.svm import SVC\n",
    "\n",
    "clf = SVC(kernel='rbf', C=100, gamma=10, probability=True)\n",
    "clf.fit(X_train, y_train)\n",
    "\n",
    "print(\"Training set score: {:.3f}\".format(clf.score(X_train, y_train)))\n",
    "print(\"Test set score: {:.3f}\".format(clf.score(X_test, y_test)))"
   ]
  },
  {
   "cell_type": "code",
   "execution_count": 1219,
   "metadata": {
    "collapsed": false
   },
   "outputs": [
    {
     "name": "stdout",
     "output_type": "stream",
     "text": [
      "[-1.  1.]\n"
     ]
    },
    {
     "data": {
      "text/plain": [
       "array([[217,  53],\n",
       "       [  4, 266]])"
      ]
     },
     "execution_count": 1219,
     "metadata": {},
     "output_type": "execute_result"
    }
   ],
   "source": [
    "from sklearn.metrics import confusion_matrix\n",
    "print(clf.classes_)\n",
    "confusion_matrix(y_test, clf.predict(X_test))"
   ]
  },
  {
   "cell_type": "code",
   "execution_count": 1209,
   "metadata": {
    "collapsed": true
   },
   "outputs": [],
   "source": [
    "import pickle\n",
    "pickle.dump(clf, open('./sound_detectors/air_conditioner_detector.pkl', 'wb'))"
   ]
  },
  {
   "cell_type": "code",
   "execution_count": 1211,
   "metadata": {
    "collapsed": false,
    "scrolled": true
   },
   "outputs": [
    {
     "name": "stdout",
     "output_type": "stream",
     "text": [
      "./soundscapes/air_conditioner/soundscape_56.wav\n",
      "./soundscapes/air_conditioner/soundscape_42.wav\n",
      "./soundscapes/air_conditioner/soundscape_95.wav\n",
      "./soundscapes/air_conditioner/soundscape_81.wav\n",
      "./soundscapes/air_conditioner/soundscape_80.wav\n",
      "./soundscapes/air_conditioner/soundscape_94.wav\n",
      "./soundscapes/air_conditioner/soundscape_43.wav\n",
      "./soundscapes/air_conditioner/soundscape_57.wav\n",
      "./soundscapes/air_conditioner/soundscape_41.wav\n",
      "./soundscapes/air_conditioner/soundscape_55.wav\n",
      "./soundscapes/air_conditioner/soundscape_69.wav\n",
      "./soundscapes/air_conditioner/soundscape_82.wav\n",
      "./soundscapes/air_conditioner/soundscape_96.wav\n",
      "./soundscapes/air_conditioner/soundscape_97.wav\n",
      "./soundscapes/air_conditioner/soundscape_83.wav\n",
      "./soundscapes/air_conditioner/soundscape_68.wav\n",
      "./soundscapes/air_conditioner/soundscape_54.wav\n",
      "./soundscapes/air_conditioner/soundscape_40.wav\n",
      "./soundscapes/air_conditioner/soundscape_78.wav\n",
      "./soundscapes/air_conditioner/soundscape_44.wav\n",
      "./soundscapes/air_conditioner/soundscape_50.wav\n",
      "./soundscapes/air_conditioner/soundscape_87.wav\n",
      "./soundscapes/air_conditioner/soundscape_93.wav\n",
      "./soundscapes/air_conditioner/soundscape_92.wav\n",
      "./soundscapes/air_conditioner/soundscape_86.wav\n",
      "./soundscapes/air_conditioner/soundscape_51.wav\n",
      "./soundscapes/air_conditioner/soundscape_45.wav\n",
      "./soundscapes/air_conditioner/soundscape_79.wav\n",
      "./soundscapes/air_conditioner/soundscape_53.wav\n",
      "./soundscapes/air_conditioner/soundscape_47.wav\n",
      "./soundscapes/air_conditioner/soundscape_90.wav\n",
      "./soundscapes/air_conditioner/soundscape_84.wav\n",
      "./soundscapes/air_conditioner/soundscape_85.wav\n",
      "./soundscapes/air_conditioner/soundscape_91.wav\n",
      "./soundscapes/air_conditioner/soundscape_46.wav\n",
      "./soundscapes/air_conditioner/soundscape_52.wav\n",
      "./soundscapes/air_conditioner/soundscape_6.wav\n",
      "./soundscapes/air_conditioner/soundscape_35.wav\n",
      "./soundscapes/air_conditioner/soundscape_21.wav\n",
      "./soundscapes/air_conditioner/soundscape_20.wav\n",
      "./soundscapes/air_conditioner/soundscape_34.wav\n",
      "./soundscapes/air_conditioner/soundscape_7.wav\n",
      "./soundscapes/air_conditioner/soundscape_5.wav\n",
      "./soundscapes/air_conditioner/soundscape_22.wav\n",
      "./soundscapes/air_conditioner/soundscape_36.wav\n",
      "./soundscapes/air_conditioner/soundscape_37.wav\n",
      "./soundscapes/air_conditioner/soundscape_23.wav\n",
      "./soundscapes/air_conditioner/soundscape_4.wav\n",
      "./soundscapes/air_conditioner/soundscape_0.wav\n",
      "./soundscapes/air_conditioner/soundscape_27.wav\n",
      "./soundscapes/air_conditioner/soundscape_33.wav\n",
      "./soundscapes/air_conditioner/soundscape_32.wav\n",
      "./soundscapes/air_conditioner/soundscape_26.wav\n",
      "./soundscapes/air_conditioner/soundscape_1.wav\n",
      "./soundscapes/air_conditioner/soundscape_3.wav\n",
      "./soundscapes/air_conditioner/soundscape_18.wav\n",
      "./soundscapes/air_conditioner/soundscape_30.wav\n",
      "./soundscapes/air_conditioner/soundscape_24.wav\n",
      "./soundscapes/air_conditioner/soundscape_25.wav\n",
      "./soundscapes/air_conditioner/soundscape_31.wav\n",
      "./soundscapes/air_conditioner/soundscape_19.wav\n",
      "./soundscapes/air_conditioner/soundscape_2.wav\n",
      "./soundscapes/air_conditioner/soundscape_14.wav\n",
      "./soundscapes/air_conditioner/soundscape_28.wav\n",
      "./soundscapes/air_conditioner/soundscape_29.wav\n",
      "./soundscapes/air_conditioner/soundscape_15.wav\n",
      "./soundscapes/air_conditioner/soundscape_17.wav\n",
      "./soundscapes/air_conditioner/soundscape_16.wav\n",
      "./soundscapes/air_conditioner/soundscape_9.wav\n",
      "./soundscapes/air_conditioner/soundscape_12.wav\n",
      "./soundscapes/air_conditioner/soundscape_13.wav\n",
      "./soundscapes/air_conditioner/soundscape_8.wav\n",
      "./soundscapes/air_conditioner/soundscape_39.wav\n",
      "./soundscapes/air_conditioner/soundscape_11.wav\n",
      "./soundscapes/air_conditioner/soundscape_10.wav\n",
      "./soundscapes/air_conditioner/soundscape_38.wav\n",
      "./soundscapes/air_conditioner/soundscape_77.wav\n",
      "./soundscapes/air_conditioner/soundscape_63.wav\n",
      "./soundscapes/air_conditioner/soundscape_88.wav\n",
      "./soundscapes/air_conditioner/soundscape_89.wav\n",
      "./soundscapes/air_conditioner/soundscape_62.wav\n",
      "./soundscapes/air_conditioner/soundscape_76.wav\n",
      "./soundscapes/air_conditioner/soundscape_60.wav\n",
      "./soundscapes/air_conditioner/soundscape_74.wav\n",
      "./soundscapes/air_conditioner/soundscape_48.wav\n",
      "./soundscapes/air_conditioner/soundscape_49.wav\n",
      "./soundscapes/air_conditioner/soundscape_75.wav\n",
      "./soundscapes/air_conditioner/soundscape_61.wav\n",
      "./soundscapes/air_conditioner/soundscape_59.wav\n",
      "./soundscapes/air_conditioner/soundscape_65.wav\n",
      "./soundscapes/air_conditioner/soundscape_71.wav\n",
      "./soundscapes/air_conditioner/soundscape_70.wav\n",
      "./soundscapes/air_conditioner/soundscape_64.wav\n",
      "./soundscapes/air_conditioner/soundscape_58.wav\n",
      "./soundscapes/air_conditioner/soundscape_72.wav\n",
      "./soundscapes/air_conditioner/soundscape_66.wav\n",
      "./soundscapes/air_conditioner/soundscape_99.wav\n",
      "./soundscapes/air_conditioner/soundscape_98.wav\n",
      "./soundscapes/air_conditioner/soundscape_67.wav\n",
      "./soundscapes/air_conditioner/soundscape_73.wav\n",
      "Finished!\n"
     ]
    }
   ],
   "source": [
    "F_features_test, labels_test = gen_testing_data_for_svm(target_class='air_conditioner', \n",
    "                                                        parent_dir='./soundscapes', \n",
    "                                                        sub_dirs=['air_conditioner'])"
   ]
  },
  {
   "cell_type": "code",
   "execution_count": null,
   "metadata": {
    "collapsed": false
   },
   "outputs": [],
   "source": [
    "np.savetxt(\"./sound_detector_test_data/siren_test_features.csv\", np.array(F_features_test), delimiter=\",\")\n",
    "np.savetxt(\"./sound_detector_test_data/siren_test_labels.csv\", np.array(labels_test), delimiter=\",\")"
   ]
  },
  {
   "cell_type": "code",
   "execution_count": 1212,
   "metadata": {
    "collapsed": false
   },
   "outputs": [
    {
     "name": "stdout",
     "output_type": "stream",
     "text": [
      "(100,)\n",
      "(100,)\n"
     ]
    }
   ],
   "source": [
    "print(np.array(F_features_test).shape)\n",
    "print(np.array(labels_test).shape)\n",
    "\n",
    "from sklearn.metrics import recall_score, precision_score, f1_score, accuracy_score\n",
    "\n",
    "recall_scores = []\n",
    "precision_scores = []\n",
    "f1_scores = []\n",
    "accuracy_scores = []\n",
    "\n",
    "for x, y in zip(F_features_test, labels_test):\n",
    "    preds = clf.predict(x)\n",
    "    recall_scores.append(recall_score(y, preds))\n",
    "    precision_scores.append(precision_score(y, preds))\n",
    "    f1_scores.append(f1_score(y, preds))\n",
    "    accuracy_scores.append(accuracy_score(y, preds))"
   ]
  },
  {
   "cell_type": "code",
   "execution_count": 1213,
   "metadata": {
    "collapsed": false
   },
   "outputs": [
    {
     "data": {
      "image/png": "[encoded data removed]",
      "text/plain": [
       "<matplotlib.figure.Figure at 0x12966be48>"
      ]
     },
     "metadata": {},
     "output_type": "display_data"
    },
    {
     "data": {
      "image/png": "[encoded data removed]",
      "text/plain": [
       "<matplotlib.figure.Figure at 0x132612898>"
      ]
     },
     "metadata": {},
     "output_type": "display_data"
    },
    {
     "data": {
      "image/png": "[encoded data removed]",
      "text/plain": [
       "<matplotlib.figure.Figure at 0x12dd97fd0>"
      ]
     },
     "metadata": {},
     "output_type": "display_data"
    },
    {
     "data": {
      "image/png": "[encoded data removed]",
      "text/plain": [
       "<matplotlib.figure.Figure at 0x12d9656d8>"
      ]
     },
     "metadata": {},
     "output_type": "display_data"
    }
   ],
   "source": [
    "plt.plot(recall_scores)\n",
    "plt.show()\n",
    "plt.plot(precision_scores)\n",
    "plt.show()\n",
    "plt.plot(f1_scores)\n",
    "plt.show()\n",
    "plt.plot(accuracy_scores)\n",
    "plt.show()"
   ]
  },
  {
   "cell_type": "code",
   "execution_count": 1214,
   "metadata": {
    "collapsed": false
   },
   "outputs": [
    {
     "name": "stdout",
     "output_type": "stream",
     "text": [
      "0.255838121178\n",
      "0.412409033263\n",
      "0.273474194091\n",
      "0.689105798005\n"
     ]
    }
   ],
   "source": [
    "# 0.696400072903\n",
    "# 0.697101319222\n",
    "# 0.669004671073\n",
    "# 0.8357\n",
    "\n",
    "print(np.mean(recall_scores))\n",
    "print(np.mean(precision_scores))\n",
    "print(np.mean(f1_scores))\n",
    "print(np.mean(accuracy_scores))"
   ]
  },
  {
   "cell_type": "code",
   "execution_count": 1078,
   "metadata": {
    "collapsed": false
   },
   "outputs": [
    {
     "name": "stdout",
     "output_type": "stream",
     "text": [
      "100\n",
      "675\n",
      "100\n",
      "53\n",
      "[(0.915, './UrbanSound8K/ByClass/air_conditioner/75743-0-0-6.wav'), (0.9075, './UrbanSound8K/ByClass/air_conditioner/189982-0-0-4.wav'), (0.97, './UrbanSound8K/ByClass/air_conditioner/146845-0-0-21.wav'), (0.9525, './UrbanSound8K/ByClass/air_conditioner/146709-0-0-65.wav'), (0.9325, './UrbanSound8K/ByClass/air_conditioner/134717-0-0-26.wav'), (0.9925, './UrbanSound8K/ByClass/air_conditioner/147926-0-0-44.wav'), (0.905, './UrbanSound8K/ByClass/air_conditioner/75743-0-0-11.wav'), (0.925, './UrbanSound8K/ByClass/air_conditioner/189989-0-0-0.wav'), (0.945, './UrbanSound8K/ByClass/air_conditioner/55018-0-0-106.wav'), (0.9325, './UrbanSound8K/ByClass/air_conditioner/74507-0-0-13.wav'), (0.925, './UrbanSound8K/ByClass/air_conditioner/83502-0-0-10.wav'), (0.9125, './UrbanSound8K/ByClass/air_conditioner/13230-0-0-10.wav'), (0.9675, './UrbanSound8K/ByClass/air_conditioner/189989-0-0-1.wav'), (0.915, './UrbanSound8K/ByClass/air_conditioner/75743-0-0-10.wav'), (0.965, './UrbanSound8K/ByClass/air_conditioner/146714-0-0-21.wav'), (0.94, './UrbanSound8K/ByClass/air_conditioner/134717-0-0-27.wav'), (0.9825, './UrbanSound8K/ByClass/air_conditioner/75743-0-0-7.wav'), (0.9675, './UrbanSound8K/ByClass/air_conditioner/184805-0-0-34.wav'), (0.9175, './UrbanSound8K/ByClass/air_conditioner/55018-0-0-92.wav'), (0.93, './UrbanSound8K/ByClass/air_conditioner/189982-0-0-7.wav'), (0.91, './UrbanSound8K/ByClass/air_conditioner/134717-0-0-25.wav'), (0.9475, './UrbanSound8K/ByClass/air_conditioner/13230-0-0-12.wav'), (0.965, './UrbanSound8K/ByClass/air_conditioner/83502-0-0-12.wav'), (0.955, './UrbanSound8K/ByClass/air_conditioner/30204-0-0-3.wav'), (0.9425, './UrbanSound8K/ByClass/air_conditioner/83502-0-0-13.wav'), (0.9425, './UrbanSound8K/ByClass/air_conditioner/30204-0-0-2.wav'), (0.9325, './UrbanSound8K/ByClass/air_conditioner/74677-0-0-28.wav'), (0.9425, './UrbanSound8K/ByClass/air_conditioner/74677-0-0-14.wav'), (0.9675, './UrbanSound8K/ByClass/air_conditioner/146714-0-0-22.wav'), (0.905, './UrbanSound8K/ByClass/air_conditioner/57320-0-0-32.wav'), (0.935, './UrbanSound8K/ByClass/air_conditioner/146690-0-0-35.wav'), (0.9975, './UrbanSound8K/ByClass/air_conditioner/134717-0-0-18.wav'), (0.9025, './UrbanSound8K/ByClass/air_conditioner/170245-0-0-0.wav'), (0.905, './UrbanSound8K/ByClass/air_conditioner/162103-0-0-8.wav'), (0.925, './UrbanSound8K/ByClass/air_conditioner/189982-0-0-6.wav'), (0.9375, './UrbanSound8K/ByClass/air_conditioner/55018-0-0-87.wav'), (0.9225, './UrbanSound8K/ByClass/air_conditioner/55018-0-0-93.wav'), (0.9475, './UrbanSound8K/ByClass/air_conditioner/184805-0-0-27.wav'), (0.9475, './UrbanSound8K/ByClass/air_conditioner/134717-0-0-20.wav'), (0.95, './UrbanSound8K/ByClass/air_conditioner/57320-0-0-22.wav'), (0.9875, './UrbanSound8K/ByClass/air_conditioner/146845-0-0-33.wav'), (0.94, './UrbanSound8K/ByClass/air_conditioner/146845-0-0-27.wav'), (0.95, './UrbanSound8K/ByClass/air_conditioner/147926-0-0-42.wav'), (0.94, './UrbanSound8K/ByClass/air_conditioner/75743-0-0-17.wav'), (0.9975, './UrbanSound8K/ByClass/air_conditioner/73524-0-0-126.wav'), (0.9175, './UrbanSound8K/ByClass/air_conditioner/13230-0-0-17.wav'), (0.9625, './UrbanSound8K/ByClass/air_conditioner/74677-0-0-38.wav'), (0.9275, './UrbanSound8K/ByClass/air_conditioner/30204-0-0-6.wav'), (0.955, './UrbanSound8K/ByClass/air_conditioner/74507-0-0-28.wav'), (0.94, './UrbanSound8K/ByClass/air_conditioner/74507-0-0-14.wav'), (0.955, './UrbanSound8K/ByClass/air_conditioner/54383-0-0-9.wav'), (0.97, './UrbanSound8K/ByClass/air_conditioner/56385-0-0-1.wav'), (0.92, './UrbanSound8K/ByClass/air_conditioner/13230-0-0-16.wav')]\n"
     ]
    },
    {
     "data": {
      "image/png": "[encoded data removed]",
      "text/plain": [
       "<matplotlib.figure.Figure at 0x132605588>"
      ]
     },
     "metadata": {},
     "output_type": "display_data"
    }
   ],
   "source": [
    "print(len(F_features_test))\n",
    "print(len(fns))\n",
    "preds = list(map(lambda d: clf.predict(d), F_features_test))\n",
    "precisions = list(map(lambda d: d.tolist().count(1)/len(d), preds))\n",
    "print(len(precisions))\n",
    "plt.plot(precisions)\n",
    "\n",
    "fs = list(filter(lambda p: p[0]>=.9, zip(precisions, fns)))\n",
    "print(len(fs))\n",
    "print(fs)"
   ]
  },
  {
   "cell_type": "code",
   "execution_count": null,
   "metadata": {
    "collapsed": false,
    "deletable": true,
    "editable": true,
    "scrolled": true
   },
   "outputs": [],
   "source": [
    "import os\n",
    "\n",
    "for f in fs:\n",
    "#     os.system('cp %s ./hownoisy/data/ByClass/air_conditioner' % (f[1]))"
   ]
  }
 ],
 "metadata": {
  "kernelspec": {
   "display_name": "Python 3",
   "language": "python",
   "name": "python3"
  },
  "language_info": {
   "codemirror_mode": {
    "name": "ipython",
    "version": 3
   },
   "file_extension": ".py",
   "mimetype": "text/x-python",
   "name": "python",
   "nbconvert_exporter": "python",
   "pygments_lexer": "ipython3",
   "version": "3.5.2"
  }
 },
 "nbformat": 4,
 "nbformat_minor": 2
}
